{
 "cells": [
  {
   "cell_type": "markdown",
   "id": "26c9d530-49cd-47c7-80c4-181fdfc17ba0",
   "metadata": {
    "tags": []
   },
   "source": [
    "# Data Science Tools and Ecosystem"
   ]
  },
  {
   "cell_type": "markdown",
   "id": "f84d26e1-f9d8-4b15-a7a4-9bede1fe54a3",
   "metadata": {},
   "source": [
    "In this notebook, Data Science Tools and Ecosystem are summarized."
   ]
  },
  {
   "cell_type": "markdown",
   "id": "716362db-2b7b-446a-a755-dd9c1cb4af52",
   "metadata": {},
   "source": [
    "Some of the popular languages that Data Scientists use are:\n",
    "1. Python\n",
    "2. SQL\n",
    "3. C##\n",
    "4. R\n",
    "5. JAVA\n",
    "6. Ruby\n"
   ]
  },
  {
   "cell_type": "markdown",
   "id": "54d20100-151c-4aab-88a3-7def2f266783",
   "metadata": {},
   "source": [
    "Some of the commonly used libraries used by Data Scientists include:\n",
    "1. NumPy\n",
    "2. Pandas\n",
    "3. SciPy\n",
    "4. Keras\n",
    "5. TensorFlow\n"
   ]
  },
  {
   "cell_type": "markdown",
   "id": "14f94a2a-1ffd-4ee6-be1c-ad9fb2aa0536",
   "metadata": {
    "tags": []
   },
   "source": [
    "<table>\n",
    "<tr> \n",
    "<th> <Data Science Tools>\n",
    "</tr>\n",
    "\n",
    "<tr>\n",
    "<td>< SAS ></td>\n",
    "<td>< Apache Hadoop></td>\n",
    "<td>< TensorFlow ></td>"
   ]
  },
  {
   "cell_type": "markdown",
   "id": "ea2a2690-8aca-4197-9832-a97eb422539c",
   "metadata": {
    "tags": []
   },
   "source": [
    "|Data science tool|\n",
    "|---|\n",
    "|SAS|\n",
    "|TensorFlow|\n",
    "|Apache Hoodop|"
   ]
  },
  {
   "cell_type": "markdown",
   "id": "cbf5ca15-dc3b-4e2f-827e-b368d066d273",
   "metadata": {},
   "source": [
    "### Below are a few examples of evaluating arithmetic expressions in Python"
   ]
  },
  {
   "cell_type": "code",
   "execution_count": 21,
   "id": "5da702d0-d740-405f-b51d-1aa7af58ca70",
   "metadata": {
    "tags": []
   },
   "outputs": [
    {
     "data": {
      "text/plain": [
       "17"
      ]
     },
     "execution_count": 21,
     "metadata": {},
     "output_type": "execute_result"
    }
   ],
   "source": [
    "#This a simple arithmetic expression to mutiply then add integers\n",
    "(3*4)+5"
   ]
  },
  {
   "cell_type": "code",
   "execution_count": 22,
   "id": "b219e4c4-d578-4d7d-93f1-d6914da56f89",
   "metadata": {
    "tags": []
   },
   "outputs": [
    {
     "data": {
      "text/plain": [
       "3.3333333333333335"
      ]
     },
     "execution_count": 22,
     "metadata": {},
     "output_type": "execute_result"
    }
   ],
   "source": [
    "#This will convert 200 minutes to hours by diving by 60\n",
    "\n",
    "200/60\n"
   ]
  },
  {
   "cell_type": "markdown",
   "id": "325f0142-ff0a-462a-a4d0-71409027240d",
   "metadata": {
    "tags": []
   },
   "source": [
    " __Objective__\n",
    "* List popular languages For Data science\n",
    "* List the popular languages in Data science\n",
    "* List the well known data science tools\n",
    "* Providing comments in a cell"
   ]
  },
  {
   "cell_type": "markdown",
   "id": "8f7492d4-b859-4e59-992c-719d700733d6",
   "metadata": {
    "tags": []
   },
   "source": [
    "## Author\n",
    "\n",
    "Lebogang Lebudi"
   ]
  },
  {
   "cell_type": "code",
   "execution_count": null,
   "id": "c5c3b044-0743-4e06-98ee-20dafa930c76",
   "metadata": {},
   "outputs": [],
   "source": []
  }
 ],
 "metadata": {
  "kernelspec": {
   "display_name": "Python",
   "language": "python",
   "name": "conda-env-python-py"
  },
  "language_info": {
   "codemirror_mode": {
    "name": "ipython",
    "version": 3
   },
   "file_extension": ".py",
   "mimetype": "text/x-python",
   "name": "python",
   "nbconvert_exporter": "python",
   "pygments_lexer": "ipython3",
   "version": "3.7.12"
  }
 },
 "nbformat": 4,
 "nbformat_minor": 5
}
